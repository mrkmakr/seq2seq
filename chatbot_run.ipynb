{
 "cells": [
  {
   "cell_type": "code",
   "execution_count": 1,
   "metadata": {},
   "outputs": [],
   "source": [
    "#https://qiita.com/kenchin110100/items/b34f5106d5a211f4c004"
   ]
  },
  {
   "cell_type": "code",
   "execution_count": 2,
   "metadata": {},
   "outputs": [
    {
     "name": "stderr",
     "output_type": "stream",
     "text": [
      "/Users/admin/.pyenv/versions/anaconda3-5.1.0/lib/python3.6/site-packages/h5py/__init__.py:36: FutureWarning: Conversion of the second argument of issubdtype from `float` to `np.floating` is deprecated. In future, it will be treated as `np.float64 == np.dtype(float).type`.\n",
      "  from ._conv import register_converters as _register_converters\n"
     ]
    }
   ],
   "source": [
    "import json\n",
    "import glob\n",
    "import pickle\n",
    "import os\n",
    "import numpy as np\n",
    "import matplotlib.pyplot as plt\n",
    "%matplotlib inline\n",
    "from sklearn.preprocessing import OneHotEncoder\n",
    "import MeCab\n",
    "import collections\n",
    "import chainer\n",
    "import chainer.functions as F\n",
    "import chainer.links as L\n",
    "from chainer import optimizers\n",
    "from chainer import optimizer\n",
    "from chainer import serializers"
   ]
  },
  {
   "cell_type": "code",
   "execution_count": 3,
   "metadata": {},
   "outputs": [],
   "source": [
    "def convert(sentence, dictionary):\n",
    "    return [dictionary[word] if word in dictionary.keys() else -1 for word in sentence]\n",
    "def process(ids):\n",
    "    return [end_id] + ids + [null_id] * (th_seq_length - len(ids) - 1)"
   ]
  },
  {
   "cell_type": "code",
   "execution_count": 4,
   "metadata": {},
   "outputs": [],
   "source": [
    "with open('./temp_data/word2id_dict.pkl','rb') as f:\n",
    "    word2id_dict = pickle.load(f)\n",
    "with open('./temp_data/id2word_dict.pkl','rb') as f:\n",
    "    id2word_dict = pickle.load(f)\n",
    "with open('./temp_data/questions.pkl','rb') as f:\n",
    "    questions = pickle.load(f)\n",
    "with open('./temp_data/answers.pkl','rb') as f:\n",
    "    answers = pickle.load(f)"
   ]
  },
  {
   "cell_type": "code",
   "execution_count": 5,
   "metadata": {},
   "outputs": [],
   "source": [
    "m = MeCab.Tagger (\"-Owakati\")"
   ]
  },
  {
   "cell_type": "code",
   "execution_count": 6,
   "metadata": {},
   "outputs": [],
   "source": [
    "null_id = 0\n",
    "end_id = 1\n",
    "th_seq_length = 20"
   ]
  },
  {
   "cell_type": "code",
   "execution_count": 7,
   "metadata": {},
   "outputs": [],
   "source": [
    "n_words = len(word2id_dict)"
   ]
  },
  {
   "cell_type": "code",
   "execution_count": 8,
   "metadata": {},
   "outputs": [],
   "source": [
    "class RNN(chainer.Chain):\n",
    "    def __init__(self, n_words, n_hiddens):\n",
    "        super().__init__()\n",
    "        with self.init_scope():\n",
    "            self.embed = L.EmbedID(n_words, n_hiddens)\n",
    "            self.lstm = L.LSTM(n_hiddens, n_hiddens)\n",
    "            self.fc = L.Linear(n_hiddens, n_words)\n",
    "            \n",
    "    def reset_state(self):\n",
    "        self.lstm.reset_state()\n",
    "\n",
    "    def get_state(self):\n",
    "        return self.lstm.c, self.lstm.h\n",
    "    \n",
    "    def set_state(self, c, h):\n",
    "        self.lstm.c = c\n",
    "        self.lstm.h = h\n",
    "        \n",
    "    def __call__(self,x):\n",
    "        h = self.embed(x)\n",
    "        h = self.lstm(h)\n",
    "        h = self.fc(h)\n",
    "        return h\n",
    "    \n",
    "\n",
    "def batch_sampling(x,y,bs):\n",
    "    r = np.random.permutation(n_seq)[:bs]\n",
    "    x_batch = x[r]\n",
    "    y_batch = y[r]\n",
    "    return x_batch, y_batch"
   ]
  },
  {
   "cell_type": "code",
   "execution_count": 9,
   "metadata": {},
   "outputs": [],
   "source": [
    "enc = RNN(n_words, 300)\n",
    "dec = RNN(n_words, 300)"
   ]
  },
  {
   "cell_type": "code",
   "execution_count": 10,
   "metadata": {},
   "outputs": [],
   "source": [
    "serializers.load_npz('./temp_data/enc_trained',enc)\n",
    "serializers.load_npz('./temp_data/dec_trained',dec)"
   ]
  },
  {
   "cell_type": "code",
   "execution_count": 11,
   "metadata": {},
   "outputs": [],
   "source": [
    "bs = 32\n",
    "ite_pre = 100\n",
    "ite_seq2seq = 30000"
   ]
  },
  {
   "cell_type": "code",
   "execution_count": 19,
   "metadata": {},
   "outputs": [],
   "source": [
    "def chat(inp, argmax_decoding = False, print_info = True):\n",
    "    \"\"\"\n",
    "    inp : japanese sentence input\n",
    "    argmax_decoding : if this is True, this bot reply deterministically\n",
    "    print_info : if this is True, print input and some information\n",
    "    \"\"\"\n",
    "    inp_wakati = m.parse(inp).split()\n",
    "    inp_id = convert(inp_wakati, word2id_dict)\n",
    "    #print(inp_id)\n",
    "    q = np.array(process(inp_id))\n",
    "\n",
    "    if print_info:\n",
    "        if max(np.mean(q == questions,axis=1)) == 1:\n",
    "            print('training data include this question')\n",
    "        if -1 in inp_id:\n",
    "            print('input includes unknown word')\n",
    "    q = q[::-1]\n",
    "    \n",
    "    id_preds = []\n",
    "\n",
    "    enc.reset_state()\n",
    "    dec.reset_state()\n",
    "    for t in range(th_seq_length - 1):\n",
    "        p = enc(q[t:t+1])\n",
    "\n",
    "    c,h = enc.get_state()\n",
    "    dec.set_state(c,h)\n",
    "    ps = []\n",
    "    for t in range(1, th_seq_length):\n",
    "        if t == 1:\n",
    "            p = dec(np.array([end_id]))\n",
    "        else:\n",
    "            p = dec(np.array([pred_id]))\n",
    "            \n",
    "        p = F.softmax(p).data[0]\n",
    "        \n",
    "        if argmax_decoding == True:\n",
    "            pred_id = np.argmax(p)\n",
    "        else:\n",
    "            pred_id = np.random.choice(range(n_words), p = p)\n",
    "        p = p[pred_id]\n",
    "        ps.append(p)\n",
    "        id_preds.append(int(pred_id))\n",
    "        if pred_id == null_id:\n",
    "            break\n",
    "#     p_joint = 1\n",
    "#     for p in ps:\n",
    "#         p_joint *= p\n",
    "#     print(p_joint ** (1/len(ps)))\n",
    "    out = ''.join(convert(id_preds[:-1],id2word_dict))\n",
    "    if print_info:\n",
    "        print('input  : ', inp)\n",
    "    print('output : ', out)\n",
    "    \n",
    "    return out"
   ]
  },
  {
   "cell_type": "code",
   "execution_count": 20,
   "metadata": {},
   "outputs": [
    {
     "name": "stdout",
     "output_type": "stream",
     "text": [
      "training data include this question\n",
      "input  :  こんにちは\n",
      "output :  こんにちはー\n"
     ]
    }
   ],
   "source": [
    "inp = 'こんにちは'\n",
    "out = chat(inp)"
   ]
  },
  {
   "cell_type": "code",
   "execution_count": 21,
   "metadata": {},
   "outputs": [
    {
     "name": "stdout",
     "output_type": "stream",
     "text": [
      "training data include this question\n",
      "input  :  さようなら\n",
      "output :  どう日\n"
     ]
    }
   ],
   "source": [
    "inp = 'さようなら'\n",
    "out = chat(inp)"
   ]
  },
  {
   "cell_type": "code",
   "execution_count": 22,
   "metadata": {},
   "outputs": [
    {
     "name": "stdout",
     "output_type": "stream",
     "text": [
      "training data include this question\n",
      "input  :  ばいばい\n",
      "output :  ばいばいありい\n"
     ]
    }
   ],
   "source": [
    "inp = 'ばいばい'\n",
    "out = chat(inp)"
   ]
  },
  {
   "cell_type": "code",
   "execution_count": 23,
   "metadata": {},
   "outputs": [
    {
     "name": "stdout",
     "output_type": "stream",
     "text": [
      "input  :  東京に遊びに行きませんか？\n",
      "output :  加工は見ますか\n"
     ]
    }
   ],
   "source": [
    "inp = '東京に遊びに行きませんか？'\n",
    "out = chat(inp)"
   ]
  },
  {
   "cell_type": "code",
   "execution_count": 24,
   "metadata": {},
   "outputs": [
    {
     "name": "stdout",
     "output_type": "stream",
     "text": [
      "input  :  世界が平和でありますように\n",
      "output :  クーラーは心地よいですねですね\n"
     ]
    }
   ],
   "source": [
    "inp = '世界が平和でありますように'\n",
    "out = chat(inp)"
   ]
  },
  {
   "cell_type": "code",
   "execution_count": 25,
   "metadata": {},
   "outputs": [
    {
     "name": "stdout",
     "output_type": "stream",
     "text": [
      "input  :  今日は何をして遊びますか？\n",
      "output :  退屈を紛らわせですか\n"
     ]
    }
   ],
   "source": [
    "inp = '今日は何をして遊びますか？'\n",
    "out = chat(inp)"
   ]
  },
  {
   "cell_type": "code",
   "execution_count": 26,
   "metadata": {},
   "outputs": [
    {
     "name": "stdout",
     "output_type": "stream",
     "text": [
      "training data include this question\n",
      "input  :  何の話ですか？\n",
      "output :  需要は全くないです\n"
     ]
    }
   ],
   "source": [
    "inp = '何の話ですか？'\n",
    "out = chat(inp)"
   ]
  },
  {
   "cell_type": "code",
   "execution_count": 27,
   "metadata": {},
   "outputs": [
    {
     "name": "stdout",
     "output_type": "stream",
     "text": [
      "input  :  需要がないのは良くない\n",
      "output :  需要？自分にあげ\n"
     ]
    }
   ],
   "source": [
    "inp = '需要がないのは良くない'\n",
    "out = chat(inp)"
   ]
  },
  {
   "cell_type": "code",
   "execution_count": 28,
   "metadata": {},
   "outputs": [
    {
     "name": "stdout",
     "output_type": "stream",
     "text": [
      "input  :  熱中症になれよ\n",
      "output :  あなたは対策でれ\n"
     ]
    }
   ],
   "source": [
    "inp = '熱中症になれよ'\n",
    "out = chat(inp)"
   ]
  },
  {
   "cell_type": "code",
   "execution_count": 29,
   "metadata": {},
   "outputs": [
    {
     "name": "stdout",
     "output_type": "stream",
     "text": [
      "input  :  ブラックな素晴らしきお仕事\n",
      "output :  パンは買うのです\n"
     ]
    }
   ],
   "source": [
    "inp = 'ブラックな素晴らしきお仕事'\n",
    "out = chat(inp)"
   ]
  },
  {
   "cell_type": "code",
   "execution_count": 30,
   "metadata": {},
   "outputs": [
    {
     "name": "stdout",
     "output_type": "stream",
     "text": [
      "training data include this question\n",
      "input  :  おはようございます\n",
      "output :  おは\n",
      "input  :  おは\n",
      "output :  もうのよーたー\n",
      "input  :  もうのよーたー\n",
      "output :  今日じゃたんですか\n",
      "input  :  今日じゃたんですか\n",
      "output :  お昼に何たするのですか\n",
      "input  :  お昼に何たするのですか\n",
      "output :  ？から逃げですよねえ\n",
      "input  :  ？から逃げですよねえ\n",
      "output :  私は！ではたいにはいですか\n",
      "input  :  私は！ではたいにはいですか\n",
      "output :  会社は美味しいですねです\n",
      "input  :  会社は美味しいですねです\n",
      "output :  まあうまいが大事\n",
      "input  :  まあうまいが大事\n",
      "output :  まあおいしいをおいしいですよ\n",
      "input  :  まあおいしいをおいしいですよ\n",
      "output :  通気性が好きですね\n",
      "input  :  通気性が好きですね\n",
      "output :  いっぱいいもみたいです\n",
      "input includes unknown word\n",
      "input  :  いっぱいいもみたいです\n",
      "output :  ものを食べるますか\n",
      "input  :  ものを食べるますか\n",
      "output :  日傘を言っをたますよ\n",
      "input  :  日傘を言っをたますよ\n",
      "output :  それ！ね\n",
      "input  :  それ！ね\n",
      "output :  あ\n",
      "input  :  あ\n",
      "output :  どうし\n",
      "input  :  どうし\n",
      "output :  僕はなったい乱暴ましか\n",
      "input  :  僕はなったい乱暴ましか\n",
      "output :  こんにちはに飲みます\n",
      "input  :  こんにちはに飲みます\n",
      "output :  今年の\n",
      "input  :  今年の\n",
      "output :  サイズが有名のです\n",
      "input  :  サイズが有名のです\n",
      "output :  えとかがいい？\n",
      "input includes unknown word\n",
      "input  :  えとかがいい？\n",
      "output :  生が大切ですね\n",
      "input  :  生が大切ですね\n",
      "output :  どんな料理、大好きですな好き\n",
      "input  :  どんな料理、大好きですな好き\n",
      "output :  いっぱい私が上手です\n",
      "input  :  いっぱい私が上手です\n",
      "output :  スイカは強いです？\n",
      "input  :  スイカは強いです？\n",
      "output :  何故スイカは強いです\n",
      "input  :  何故スイカは強いです\n",
      "output :  実が\n",
      "input  :  実が\n",
      "output :  実が悪いなってるませ\n",
      "input  :  実が悪いなってるませ\n",
      "output :  実がね\n",
      "input  :  実がね\n",
      "output :  実が少ないらしい\n",
      "input  :  実が少ないらしい\n",
      "output :  スイカが落ちらしいんだ\n",
      "input  :  スイカが落ちらしいんだ\n",
      "output :  スイカはスイカがよねーなる\n",
      "input  :  スイカはスイカがよねーなる\n",
      "output :  スイカは強いですねか\n",
      "input  :  スイカは強いですねか\n",
      "output :  スイカにが\n",
      "input  :  スイカにが\n",
      "output :  スイカが入るの\n",
      "input  :  スイカが入るの\n",
      "output :  スイカは入るのですかです\n",
      "input  :  スイカは入るのですかです\n",
      "output :  スイカが多い\n",
      "input  :  スイカが多い\n",
      "output :  スイカ割りなっらしいです\n",
      "input  :  スイカ割りなっらしいです\n",
      "output :  スイカで有名ですよねー？\n",
      "input  :  スイカで有名ですよねー？\n",
      "output :  私がありでんあり\n",
      "input  :  私がありでんあり\n",
      "output :  海は心ですですですね\n",
      "input  :  海は心ですですですね\n",
      "output :  今日は\n",
      "input  :  今日は\n",
      "output :  珍しい元気夕食ですん\n",
      "input  :  珍しい元気夕食ですん\n",
      "output :  趣味はには何よ\n",
      "input  :  趣味はには何よ\n",
      "output :  一人がいいですね\n",
      "training data include this question\n",
      "input  :  一人がいいですね\n",
      "output :  一寂しくなりですでいい寂しくですいい\n",
      "input  :  一寂しくなりですでいい寂しくですいい\n",
      "output :  一緒に楽しいに行くんですよねー\n",
      "input  :  一緒に楽しいに行くんですよねー\n",
      "output :  一緒は居心地が好きです\n",
      "input  :  一緒は居心地が好きです\n",
      "output :  そうがいいいいなぁ\n",
      "input  :  そうがいいいいなぁ\n",
      "output :  夏はは大丈夫ですね\n",
      "input  :  夏はは大丈夫ですね\n",
      "output :  今年は気をしたか？\n",
      "input  :  今年は気をしたか？\n",
      "output :  熱中症に大丈夫ですか？\n",
      "input  :  熱中症に大丈夫ですか？\n",
      "output :  コンビニてをもます\n",
      "input  :  コンビニてをもます\n",
      "output :  なんの欲しいです\n",
      "input  :  なんの欲しいです\n",
      "output :  コンピュータ何が欲しいですか\n",
      "input  :  コンピュータ何が欲しいですか\n",
      "output :  コンピュータは進化が早いです\n",
      "input  :  コンピュータは進化が早いです\n",
      "output :  そうですね。\n",
      "training data include this question\n",
      "input  :  そうですね。\n",
      "output :  うむ\n",
      "training data include this question\n",
      "input  :  うむ\n",
      "output :  どこかきです\n",
      "input  :  どこかきです\n",
      "output :  何も疲れにも\n",
      "input  :  何も疲れにも\n",
      "output :  どんなときって問題ますかます\n",
      "input  :  どんなときって問題ますかます\n",
      "output :  海に離れますです\n",
      "input  :  海に離れますです\n",
      "output :  夏にですますてがたりして\n",
      "input  :  夏にですますてがたりして\n",
      "output :  なにを見られるんですか？\n",
      "input  :  なにを見られるんですか？\n",
      "output :  塩はそうに考えても\n",
      "input  :  塩はそうに考えても\n",
      "output :  スイカはようにいいです\n",
      "input  :  スイカはようにいいです\n",
      "output :  他がないの好きが\n",
      "input  :  他がないの好きが\n",
      "output :  スイカは大好きですね\n",
      "training data include this question\n",
      "input  :  スイカは大好きですね\n",
      "output :  種に大好き\n",
      "input  :  種に大好き\n",
      "output :  種も好きですよね\n",
      "input  :  種も好きですよね\n",
      "output :  僕は可愛いですね\n",
      "input  :  僕は可愛いですね\n",
      "output :  田中がが少ないですか？\n",
      "input  :  田中がが少ないですか？\n",
      "output :  インドなもおいしい\n",
      "input  :  インドなもおいしい\n",
      "output :  スイカは実がいいですね\n",
      "input  :  スイカは実がいいですね\n",
      "output :  スイカの私がの\n",
      "input  :  スイカの私がの\n",
      "output :  スイカが落ちにがます\n",
      "input  :  スイカが落ちにがます\n",
      "output :  そうなんないば\n",
      "input  :  そうなんないば\n",
      "output :  そうですよ\n",
      "training data include this question\n",
      "input  :  そうですよ\n",
      "output :  なるほどとかがに\n",
      "input  :  なるほどとかがに\n",
      "output :  どこがます\n",
      "input  :  どこがます\n",
      "output :  顔がどこ\n",
      "input  :  顔がどこ\n",
      "output :  ファミコンでしょん\n",
      "input  :  ファミコンでしょん\n",
      "output :  どこがするのん\n",
      "input  :  どこがするのん\n",
      "output :  出るまで野球までね\n",
      "input  :  出るまで野球までね\n",
      "output :  そうが\n",
      "input  :  そうが\n",
      "output :  まじは欲しい\n",
      "input  :  まじは欲しい\n",
      "output :  おう\n",
      "training data include this question\n",
      "input  :  おう\n",
      "output :  うん！近くとか\n",
      "input  :  うん！近くとか\n",
      "output :  サーフィンは何テレビなの？\n",
      "input  :  サーフィンは何テレビなの？\n",
      "output :  サーフィンをはじめます\n",
      "input  :  サーフィンをはじめます\n",
      "output :  私！散歩で良いです。。。\n",
      "input  :  私！散歩で良いです。。。\n",
      "output :  コンビニで大好きですね\n",
      "input  :  コンビニで大好きですね\n",
      "output :  どんなでも、買い物が好き、痛くですか\n",
      "input  :  どんなでも、買い物が好き、痛くですか\n",
      "output :  映画は映画にで実家んんが\n",
      "input  :  映画は映画にで実家んんが\n",
      "output :  そうですねなでするとは気ないね\n",
      "input  :  そうですねなでするとは気ないね\n",
      "output :  韓国はしないです\n",
      "input  :  韓国はしないです\n",
      "output :  韓国はお言わですか？\n",
      "input  :  韓国はお言わですか？\n",
      "output :  韓国語はわかんじゃないです\n",
      "input  :  韓国語はわかんじゃないです\n",
      "output :  韓国語は難しいですです\n",
      "input  :  韓国語は難しいですです\n",
      "output :  韓国たについてはんはんか\n",
      "input includes unknown word\n",
      "input  :  韓国たについてはんはんか\n",
      "output :  どうははないです\n"
     ]
    }
   ],
   "source": [
    "inp = 'おはようございます'\n",
    "out = chat(inp)\n",
    "for k in range(100):\n",
    "    out = chat(out, print_info=True)"
   ]
  },
  {
   "cell_type": "code",
   "execution_count": null,
   "metadata": {},
   "outputs": [],
   "source": []
  },
  {
   "cell_type": "code",
   "execution_count": null,
   "metadata": {},
   "outputs": [],
   "source": []
  },
  {
   "cell_type": "code",
   "execution_count": null,
   "metadata": {},
   "outputs": [],
   "source": []
  },
  {
   "cell_type": "code",
   "execution_count": null,
   "metadata": {},
   "outputs": [],
   "source": []
  },
  {
   "cell_type": "raw",
   "metadata": {},
   "source": [
    "def chat(inp, argmax_decoding = False, print_info = True):\n",
    "    \"\"\"\n",
    "    inp : japanese sentence input\n",
    "    argmax_decoding : if this is True, this bot reply deterministically\n",
    "    print_info : if this is True, print input and some information\n",
    "    \"\"\"\n",
    "    inp_wakati = m.parse(inp).split()\n",
    "    inp_id = convert(inp_wakati, word2id_dict)\n",
    "    #print(inp_id)\n",
    "    q = np.array(process(inp_id))\n",
    "\n",
    "    if print_info:\n",
    "        if max(np.mean(q == questions,axis=1)) == 1:\n",
    "            print('training data include this question')\n",
    "        if -1 in inp_id:\n",
    "            print('input includes unknown word')\n",
    "    q = q[::-1]\n",
    "    \n",
    "    id_preds_rec = []\n",
    "    p_rec = []\n",
    "    for i in range(20):\n",
    "        \n",
    "        id_preds = []\n",
    "\n",
    "        enc.reset_state()\n",
    "        dec.reset_state()\n",
    "        for t in range(th_seq_length - 1):\n",
    "            p = enc(q[t:t+1])\n",
    "\n",
    "        c,h = enc.get_state()\n",
    "        dec.set_state(c,h)\n",
    "        ps = []\n",
    "        for t in range(1, th_seq_length):\n",
    "            if t == 1:\n",
    "                p = dec(np.array([end_id]))\n",
    "            else:\n",
    "                p = dec(np.array([pred_id]))\n",
    "\n",
    "            p = F.softmax(p).data[0]\n",
    "\n",
    "            if argmax_decoding == True:\n",
    "                pred_id = np.argmax(p)\n",
    "            else:\n",
    "                pred_id = np.random.choice(range(n_words), p = p)\n",
    "            p = p[pred_id]\n",
    "            ps.append(p)\n",
    "            id_preds.append(int(pred_id))\n",
    "            if pred_id == null_id:\n",
    "                break\n",
    "        p_joint = 1\n",
    "        for p in ps:\n",
    "            p_joint *= p\n",
    "        p_rec.append(p_joint ** (1/len(ps)))\n",
    "        id_preds_rec.append(id_preds)\n",
    "        \n",
    "    best_ind = np.argmax(p_rec)\n",
    "    out = ''.join(convert(id_preds_rec[best_ind][:-1],id2word_dict))\n",
    "#     if print_info:\n",
    "#         print('input  : ', inp)\n",
    "    print('output : ', out)\n",
    "\n",
    "    return out"
   ]
  },
  {
   "cell_type": "code",
   "execution_count": null,
   "metadata": {},
   "outputs": [],
   "source": []
  }
 ],
 "metadata": {
  "kernelspec": {
   "display_name": "Python 3",
   "language": "python",
   "name": "python3"
  },
  "language_info": {
   "codemirror_mode": {
    "name": "ipython",
    "version": 3
   },
   "file_extension": ".py",
   "mimetype": "text/x-python",
   "name": "python",
   "nbconvert_exporter": "python",
   "pygments_lexer": "ipython3",
   "version": "3.6.4"
  }
 },
 "nbformat": 4,
 "nbformat_minor": 2
}
